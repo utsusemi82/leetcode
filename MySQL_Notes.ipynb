{
 "cells": [
  {
   "cell_type": "markdown",
   "id": "ad82ca21",
   "metadata": {},
   "source": [
    "### SELECT Query"
   ]
  },
  {
   "cell_type": "code",
   "execution_count": null,
   "id": "ad482d05",
   "metadata": {
    "vscode": {
     "languageId": "sql"
    }
   },
   "outputs": [],
   "source": [
    "SELECT col1, col2\n",
    "FROM table1\n",
    "JOIN table2 ON table1.col = table2.col\n",
    "WHERE condition\n",
    "GROUP BY column_name\n",
    "ORDER BY col1 ASC|DESC;"
   ]
  },
  {
   "cell_type": "code",
   "execution_count": null,
   "id": "337be4fb",
   "metadata": {
    "vscode": {
     "languageId": "sql"
    }
   },
   "outputs": [],
   "source": []
  }
 ],
 "metadata": {
  "language_info": {
   "name": "python"
  }
 },
 "nbformat": 4,
 "nbformat_minor": 5
}
